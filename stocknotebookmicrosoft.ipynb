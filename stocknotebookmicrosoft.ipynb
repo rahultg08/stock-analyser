{
  "nbformat": 4,
  "nbformat_minor": 0,
  "metadata": {
    "colab": {
      "provenance": []
    },
    "kernelspec": {
      "name": "python3",
      "display_name": "Python 3"
    },
    "language_info": {
      "name": "python"
    }
  },
  "cells": [
    {
      "cell_type": "code",
      "execution_count": 1,
      "metadata": {
        "colab": {
          "base_uri": "https://localhost:8080/"
        },
        "id": "EQIrKv06ti7v",
        "outputId": "c40fd82b-c456-49ff-bfd9-325e36ce221d"
      },
      "outputs": [
        {
          "output_type": "stream",
          "name": "stdout",
          "text": [
            "\u001b[K     |████████████████████████████████| 9.2 MB 8.3 MB/s \n",
            "\u001b[K     |████████████████████████████████| 78 kB 8.1 MB/s \n",
            "\u001b[K     |████████████████████████████████| 182 kB 48.0 MB/s \n",
            "\u001b[K     |████████████████████████████████| 4.7 MB 41.1 MB/s \n",
            "\u001b[K     |████████████████████████████████| 237 kB 70.1 MB/s \n",
            "\u001b[K     |████████████████████████████████| 164 kB 48.6 MB/s \n",
            "\u001b[K     |████████████████████████████████| 62 kB 1.5 MB/s \n",
            "\u001b[K     |████████████████████████████████| 51 kB 8.0 MB/s \n",
            "\u001b[?25h  Building wheel for validators (setup.py) ... \u001b[?25l\u001b[?25hdone\n"
          ]
        }
      ],
      "source": [
        "!pip install streamlit -q"
      ]
    },
    {
      "cell_type": "code",
      "source": [
        "!pip install tornado==5.1"
      ],
      "metadata": {
        "colab": {
          "base_uri": "https://localhost:8080/",
          "height": 506
        },
        "id": "cBlEDtEYtuyC",
        "outputId": "9c0c07f1-37be-4dd7-a6d5-5c4e577c4af3"
      },
      "execution_count": 2,
      "outputs": [
        {
          "output_type": "stream",
          "name": "stdout",
          "text": [
            "Looking in indexes: https://pypi.org/simple, https://us-python.pkg.dev/colab-wheels/public/simple/\n",
            "Collecting tornado==5.1\n",
            "  Downloading tornado-5.1.tar.gz (516 kB)\n",
            "\u001b[K     |████████████████████████████████| 516 kB 7.8 MB/s \n",
            "\u001b[?25hBuilding wheels for collected packages: tornado\n",
            "  Building wheel for tornado (setup.py) ... \u001b[?25l\u001b[?25hdone\n",
            "  Created wheel for tornado: filename=tornado-5.1-cp38-cp38-linux_x86_64.whl size=461817 sha256=dd006194246a5458c86360b8bf054cfdaf21ffacd1ffe89ca7d7ffb1f7c39c28\n",
            "  Stored in directory: /root/.cache/pip/wheels/f7/51/7a/a7b5f4af2fa1367a6d2cf9c402758918559c80c4f545fa99b4\n",
            "Successfully built tornado\n",
            "Installing collected packages: tornado\n",
            "  Attempting uninstall: tornado\n",
            "    Found existing installation: tornado 6.0.4\n",
            "    Uninstalling tornado-6.0.4:\n",
            "      Successfully uninstalled tornado-6.0.4\n",
            "\u001b[31mERROR: pip's dependency resolver does not currently take into account all the packages that are installed. This behaviour is the source of the following dependency conflicts.\n",
            "google-colab 1.0.0 requires tornado~=6.0.4, but you have tornado 5.1 which is incompatible.\n",
            "distributed 2022.2.1 requires tornado>=6.0.3, but you have tornado 5.1 which is incompatible.\u001b[0m\n",
            "Successfully installed tornado-5.1\n"
          ]
        },
        {
          "output_type": "display_data",
          "data": {
            "application/vnd.colab-display-data+json": {
              "pip_warning": {
                "packages": [
                  "tornado"
                ]
              }
            }
          },
          "metadata": {}
        }
      ]
    },
    {
      "cell_type": "code",
      "source": [
        "import numpy as np\n",
        "import streamlit as st\n",
        "import matplotlib.pyplot as plt\n",
        "import pandas as pd\n",
        "import datetime"
      ],
      "metadata": {
        "id": "Zue_mduMtx62"
      },
      "execution_count": 1,
      "outputs": []
    },
    {
      "cell_type": "code",
      "source": [
        "from google.colab import drive\n",
        "drive.mount('/content/drive')"
      ],
      "metadata": {
        "colab": {
          "base_uri": "https://localhost:8080/"
        },
        "id": "IL7Mz7Hgt0kP",
        "outputId": "4acf7c6d-19ba-458b-fbfa-983009cdb94d"
      },
      "execution_count": 2,
      "outputs": [
        {
          "output_type": "stream",
          "name": "stdout",
          "text": [
            "Mounted at /content/drive\n"
          ]
        }
      ]
    },
    {
      "cell_type": "code",
      "source": [
        "df = pd.read_csv('/content/drive/MyDrive/Colab Notebooks/stock/Microsoft_Stock.csv')"
      ],
      "metadata": {
        "id": "pt5JeA9yt_e8"
      },
      "execution_count": 3,
      "outputs": []
    },
    {
      "cell_type": "code",
      "source": [
        "df"
      ],
      "metadata": {
        "colab": {
          "base_uri": "https://localhost:8080/",
          "height": 424
        },
        "id": "uW1xYLsduFsv",
        "outputId": "6a4d7964-b3b8-4cdf-dc0c-06cf41ddfba5"
      },
      "execution_count": 4,
      "outputs": [
        {
          "output_type": "execute_result",
          "data": {
            "text/plain": [
              "                    Date    Open    High     Low   Close    Volume\n",
              "0      4/1/2015 16:00:00   40.60   40.76   40.31   40.72  36865322\n",
              "1      4/2/2015 16:00:00   40.66   40.74   40.12   40.29  37487476\n",
              "2      4/6/2015 16:00:00   40.34   41.78   40.18   41.55  39223692\n",
              "3      4/7/2015 16:00:00   41.61   41.91   41.31   41.53  28809375\n",
              "4      4/8/2015 16:00:00   41.48   41.69   41.04   41.42  24753438\n",
              "...                  ...     ...     ...     ...     ...       ...\n",
              "1506  3/25/2021 16:00:00  235.30  236.94  231.57  232.34  34061853\n",
              "1507  3/26/2021 16:00:00  231.55  236.71  231.55  236.48  25479853\n",
              "1508  3/29/2021 16:00:00  236.59  236.80  231.88  235.24  25227455\n",
              "1509  3/30/2021 16:00:00  233.53  233.85  231.10  231.85  24792012\n",
              "1510  3/31/2021 16:00:00  232.91  239.10  232.39  235.77  43623471\n",
              "\n",
              "[1511 rows x 6 columns]"
            ],
            "text/html": [
              "\n",
              "  <div id=\"df-52e35105-95a0-4105-b551-d0022464e764\">\n",
              "    <div class=\"colab-df-container\">\n",
              "      <div>\n",
              "<style scoped>\n",
              "    .dataframe tbody tr th:only-of-type {\n",
              "        vertical-align: middle;\n",
              "    }\n",
              "\n",
              "    .dataframe tbody tr th {\n",
              "        vertical-align: top;\n",
              "    }\n",
              "\n",
              "    .dataframe thead th {\n",
              "        text-align: right;\n",
              "    }\n",
              "</style>\n",
              "<table border=\"1\" class=\"dataframe\">\n",
              "  <thead>\n",
              "    <tr style=\"text-align: right;\">\n",
              "      <th></th>\n",
              "      <th>Date</th>\n",
              "      <th>Open</th>\n",
              "      <th>High</th>\n",
              "      <th>Low</th>\n",
              "      <th>Close</th>\n",
              "      <th>Volume</th>\n",
              "    </tr>\n",
              "  </thead>\n",
              "  <tbody>\n",
              "    <tr>\n",
              "      <th>0</th>\n",
              "      <td>4/1/2015 16:00:00</td>\n",
              "      <td>40.60</td>\n",
              "      <td>40.76</td>\n",
              "      <td>40.31</td>\n",
              "      <td>40.72</td>\n",
              "      <td>36865322</td>\n",
              "    </tr>\n",
              "    <tr>\n",
              "      <th>1</th>\n",
              "      <td>4/2/2015 16:00:00</td>\n",
              "      <td>40.66</td>\n",
              "      <td>40.74</td>\n",
              "      <td>40.12</td>\n",
              "      <td>40.29</td>\n",
              "      <td>37487476</td>\n",
              "    </tr>\n",
              "    <tr>\n",
              "      <th>2</th>\n",
              "      <td>4/6/2015 16:00:00</td>\n",
              "      <td>40.34</td>\n",
              "      <td>41.78</td>\n",
              "      <td>40.18</td>\n",
              "      <td>41.55</td>\n",
              "      <td>39223692</td>\n",
              "    </tr>\n",
              "    <tr>\n",
              "      <th>3</th>\n",
              "      <td>4/7/2015 16:00:00</td>\n",
              "      <td>41.61</td>\n",
              "      <td>41.91</td>\n",
              "      <td>41.31</td>\n",
              "      <td>41.53</td>\n",
              "      <td>28809375</td>\n",
              "    </tr>\n",
              "    <tr>\n",
              "      <th>4</th>\n",
              "      <td>4/8/2015 16:00:00</td>\n",
              "      <td>41.48</td>\n",
              "      <td>41.69</td>\n",
              "      <td>41.04</td>\n",
              "      <td>41.42</td>\n",
              "      <td>24753438</td>\n",
              "    </tr>\n",
              "    <tr>\n",
              "      <th>...</th>\n",
              "      <td>...</td>\n",
              "      <td>...</td>\n",
              "      <td>...</td>\n",
              "      <td>...</td>\n",
              "      <td>...</td>\n",
              "      <td>...</td>\n",
              "    </tr>\n",
              "    <tr>\n",
              "      <th>1506</th>\n",
              "      <td>3/25/2021 16:00:00</td>\n",
              "      <td>235.30</td>\n",
              "      <td>236.94</td>\n",
              "      <td>231.57</td>\n",
              "      <td>232.34</td>\n",
              "      <td>34061853</td>\n",
              "    </tr>\n",
              "    <tr>\n",
              "      <th>1507</th>\n",
              "      <td>3/26/2021 16:00:00</td>\n",
              "      <td>231.55</td>\n",
              "      <td>236.71</td>\n",
              "      <td>231.55</td>\n",
              "      <td>236.48</td>\n",
              "      <td>25479853</td>\n",
              "    </tr>\n",
              "    <tr>\n",
              "      <th>1508</th>\n",
              "      <td>3/29/2021 16:00:00</td>\n",
              "      <td>236.59</td>\n",
              "      <td>236.80</td>\n",
              "      <td>231.88</td>\n",
              "      <td>235.24</td>\n",
              "      <td>25227455</td>\n",
              "    </tr>\n",
              "    <tr>\n",
              "      <th>1509</th>\n",
              "      <td>3/30/2021 16:00:00</td>\n",
              "      <td>233.53</td>\n",
              "      <td>233.85</td>\n",
              "      <td>231.10</td>\n",
              "      <td>231.85</td>\n",
              "      <td>24792012</td>\n",
              "    </tr>\n",
              "    <tr>\n",
              "      <th>1510</th>\n",
              "      <td>3/31/2021 16:00:00</td>\n",
              "      <td>232.91</td>\n",
              "      <td>239.10</td>\n",
              "      <td>232.39</td>\n",
              "      <td>235.77</td>\n",
              "      <td>43623471</td>\n",
              "    </tr>\n",
              "  </tbody>\n",
              "</table>\n",
              "<p>1511 rows × 6 columns</p>\n",
              "</div>\n",
              "      <button class=\"colab-df-convert\" onclick=\"convertToInteractive('df-52e35105-95a0-4105-b551-d0022464e764')\"\n",
              "              title=\"Convert this dataframe to an interactive table.\"\n",
              "              style=\"display:none;\">\n",
              "        \n",
              "  <svg xmlns=\"http://www.w3.org/2000/svg\" height=\"24px\"viewBox=\"0 0 24 24\"\n",
              "       width=\"24px\">\n",
              "    <path d=\"M0 0h24v24H0V0z\" fill=\"none\"/>\n",
              "    <path d=\"M18.56 5.44l.94 2.06.94-2.06 2.06-.94-2.06-.94-.94-2.06-.94 2.06-2.06.94zm-11 1L8.5 8.5l.94-2.06 2.06-.94-2.06-.94L8.5 2.5l-.94 2.06-2.06.94zm10 10l.94 2.06.94-2.06 2.06-.94-2.06-.94-.94-2.06-.94 2.06-2.06.94z\"/><path d=\"M17.41 7.96l-1.37-1.37c-.4-.4-.92-.59-1.43-.59-.52 0-1.04.2-1.43.59L10.3 9.45l-7.72 7.72c-.78.78-.78 2.05 0 2.83L4 21.41c.39.39.9.59 1.41.59.51 0 1.02-.2 1.41-.59l7.78-7.78 2.81-2.81c.8-.78.8-2.07 0-2.86zM5.41 20L4 18.59l7.72-7.72 1.47 1.35L5.41 20z\"/>\n",
              "  </svg>\n",
              "      </button>\n",
              "      \n",
              "  <style>\n",
              "    .colab-df-container {\n",
              "      display:flex;\n",
              "      flex-wrap:wrap;\n",
              "      gap: 12px;\n",
              "    }\n",
              "\n",
              "    .colab-df-convert {\n",
              "      background-color: #E8F0FE;\n",
              "      border: none;\n",
              "      border-radius: 50%;\n",
              "      cursor: pointer;\n",
              "      display: none;\n",
              "      fill: #1967D2;\n",
              "      height: 32px;\n",
              "      padding: 0 0 0 0;\n",
              "      width: 32px;\n",
              "    }\n",
              "\n",
              "    .colab-df-convert:hover {\n",
              "      background-color: #E2EBFA;\n",
              "      box-shadow: 0px 1px 2px rgba(60, 64, 67, 0.3), 0px 1px 3px 1px rgba(60, 64, 67, 0.15);\n",
              "      fill: #174EA6;\n",
              "    }\n",
              "\n",
              "    [theme=dark] .colab-df-convert {\n",
              "      background-color: #3B4455;\n",
              "      fill: #D2E3FC;\n",
              "    }\n",
              "\n",
              "    [theme=dark] .colab-df-convert:hover {\n",
              "      background-color: #434B5C;\n",
              "      box-shadow: 0px 1px 3px 1px rgba(0, 0, 0, 0.15);\n",
              "      filter: drop-shadow(0px 1px 2px rgba(0, 0, 0, 0.3));\n",
              "      fill: #FFFFFF;\n",
              "    }\n",
              "  </style>\n",
              "\n",
              "      <script>\n",
              "        const buttonEl =\n",
              "          document.querySelector('#df-52e35105-95a0-4105-b551-d0022464e764 button.colab-df-convert');\n",
              "        buttonEl.style.display =\n",
              "          google.colab.kernel.accessAllowed ? 'block' : 'none';\n",
              "\n",
              "        async function convertToInteractive(key) {\n",
              "          const element = document.querySelector('#df-52e35105-95a0-4105-b551-d0022464e764');\n",
              "          const dataTable =\n",
              "            await google.colab.kernel.invokeFunction('convertToInteractive',\n",
              "                                                     [key], {});\n",
              "          if (!dataTable) return;\n",
              "\n",
              "          const docLinkHtml = 'Like what you see? Visit the ' +\n",
              "            '<a target=\"_blank\" href=https://colab.research.google.com/notebooks/data_table.ipynb>data table notebook</a>'\n",
              "            + ' to learn more about interactive tables.';\n",
              "          element.innerHTML = '';\n",
              "          dataTable['output_type'] = 'display_data';\n",
              "          await google.colab.output.renderOutput(dataTable, element);\n",
              "          const docLink = document.createElement('div');\n",
              "          docLink.innerHTML = docLinkHtml;\n",
              "          element.appendChild(docLink);\n",
              "        }\n",
              "      </script>\n",
              "    </div>\n",
              "  </div>\n",
              "  "
            ]
          },
          "metadata": {},
          "execution_count": 4
        }
      ]
    },
    {
      "cell_type": "code",
      "source": [
        "# Convert series object to datetime object\n",
        "df['Date'] = pd.to_datetime(df['Date'])"
      ],
      "metadata": {
        "id": "Xi1RxWhbuHAw"
      },
      "execution_count": 5,
      "outputs": []
    },
    {
      "cell_type": "code",
      "source": [
        "df['Date']"
      ],
      "metadata": {
        "colab": {
          "base_uri": "https://localhost:8080/"
        },
        "id": "eXSs7tu5uJS-",
        "outputId": "843cb62e-1c29-469d-c444-b369cf9aa26b"
      },
      "execution_count": 6,
      "outputs": [
        {
          "output_type": "execute_result",
          "data": {
            "text/plain": [
              "0      2015-04-01 16:00:00\n",
              "1      2015-04-02 16:00:00\n",
              "2      2015-04-06 16:00:00\n",
              "3      2015-04-07 16:00:00\n",
              "4      2015-04-08 16:00:00\n",
              "               ...        \n",
              "1506   2021-03-25 16:00:00\n",
              "1507   2021-03-26 16:00:00\n",
              "1508   2021-03-29 16:00:00\n",
              "1509   2021-03-30 16:00:00\n",
              "1510   2021-03-31 16:00:00\n",
              "Name: Date, Length: 1511, dtype: datetime64[ns]"
            ]
          },
          "metadata": {},
          "execution_count": 6
        }
      ]
    },
    {
      "cell_type": "code",
      "source": [
        "# Reset the index to the Date column\n",
        "df['Date'] = pd.to_datetime(df['Date'], format='%Y/%m/%d')\n",
        "df.reset_index(drop=True, inplace=True)\n",
        "df.set_index('Date', inplace=True)"
      ],
      "metadata": {
        "id": "tYrosCFguKZO"
      },
      "execution_count": 7,
      "outputs": []
    },
    {
      "cell_type": "code",
      "source": [
        "df.head()"
      ],
      "metadata": {
        "colab": {
          "base_uri": "https://localhost:8080/",
          "height": 237
        },
        "id": "hi7ixjFWuMTf",
        "outputId": "70632404-b608-4764-b3d9-c1e360475a14"
      },
      "execution_count": 8,
      "outputs": [
        {
          "output_type": "execute_result",
          "data": {
            "text/plain": [
              "                      Open   High    Low  Close    Volume\n",
              "Date                                                     \n",
              "2015-04-01 16:00:00  40.60  40.76  40.31  40.72  36865322\n",
              "2015-04-02 16:00:00  40.66  40.74  40.12  40.29  37487476\n",
              "2015-04-06 16:00:00  40.34  41.78  40.18  41.55  39223692\n",
              "2015-04-07 16:00:00  41.61  41.91  41.31  41.53  28809375\n",
              "2015-04-08 16:00:00  41.48  41.69  41.04  41.42  24753438"
            ],
            "text/html": [
              "\n",
              "  <div id=\"df-187bd00d-8042-403a-9715-e83c49b7a916\">\n",
              "    <div class=\"colab-df-container\">\n",
              "      <div>\n",
              "<style scoped>\n",
              "    .dataframe tbody tr th:only-of-type {\n",
              "        vertical-align: middle;\n",
              "    }\n",
              "\n",
              "    .dataframe tbody tr th {\n",
              "        vertical-align: top;\n",
              "    }\n",
              "\n",
              "    .dataframe thead th {\n",
              "        text-align: right;\n",
              "    }\n",
              "</style>\n",
              "<table border=\"1\" class=\"dataframe\">\n",
              "  <thead>\n",
              "    <tr style=\"text-align: right;\">\n",
              "      <th></th>\n",
              "      <th>Open</th>\n",
              "      <th>High</th>\n",
              "      <th>Low</th>\n",
              "      <th>Close</th>\n",
              "      <th>Volume</th>\n",
              "    </tr>\n",
              "    <tr>\n",
              "      <th>Date</th>\n",
              "      <th></th>\n",
              "      <th></th>\n",
              "      <th></th>\n",
              "      <th></th>\n",
              "      <th></th>\n",
              "    </tr>\n",
              "  </thead>\n",
              "  <tbody>\n",
              "    <tr>\n",
              "      <th>2015-04-01 16:00:00</th>\n",
              "      <td>40.60</td>\n",
              "      <td>40.76</td>\n",
              "      <td>40.31</td>\n",
              "      <td>40.72</td>\n",
              "      <td>36865322</td>\n",
              "    </tr>\n",
              "    <tr>\n",
              "      <th>2015-04-02 16:00:00</th>\n",
              "      <td>40.66</td>\n",
              "      <td>40.74</td>\n",
              "      <td>40.12</td>\n",
              "      <td>40.29</td>\n",
              "      <td>37487476</td>\n",
              "    </tr>\n",
              "    <tr>\n",
              "      <th>2015-04-06 16:00:00</th>\n",
              "      <td>40.34</td>\n",
              "      <td>41.78</td>\n",
              "      <td>40.18</td>\n",
              "      <td>41.55</td>\n",
              "      <td>39223692</td>\n",
              "    </tr>\n",
              "    <tr>\n",
              "      <th>2015-04-07 16:00:00</th>\n",
              "      <td>41.61</td>\n",
              "      <td>41.91</td>\n",
              "      <td>41.31</td>\n",
              "      <td>41.53</td>\n",
              "      <td>28809375</td>\n",
              "    </tr>\n",
              "    <tr>\n",
              "      <th>2015-04-08 16:00:00</th>\n",
              "      <td>41.48</td>\n",
              "      <td>41.69</td>\n",
              "      <td>41.04</td>\n",
              "      <td>41.42</td>\n",
              "      <td>24753438</td>\n",
              "    </tr>\n",
              "  </tbody>\n",
              "</table>\n",
              "</div>\n",
              "      <button class=\"colab-df-convert\" onclick=\"convertToInteractive('df-187bd00d-8042-403a-9715-e83c49b7a916')\"\n",
              "              title=\"Convert this dataframe to an interactive table.\"\n",
              "              style=\"display:none;\">\n",
              "        \n",
              "  <svg xmlns=\"http://www.w3.org/2000/svg\" height=\"24px\"viewBox=\"0 0 24 24\"\n",
              "       width=\"24px\">\n",
              "    <path d=\"M0 0h24v24H0V0z\" fill=\"none\"/>\n",
              "    <path d=\"M18.56 5.44l.94 2.06.94-2.06 2.06-.94-2.06-.94-.94-2.06-.94 2.06-2.06.94zm-11 1L8.5 8.5l.94-2.06 2.06-.94-2.06-.94L8.5 2.5l-.94 2.06-2.06.94zm10 10l.94 2.06.94-2.06 2.06-.94-2.06-.94-.94-2.06-.94 2.06-2.06.94z\"/><path d=\"M17.41 7.96l-1.37-1.37c-.4-.4-.92-.59-1.43-.59-.52 0-1.04.2-1.43.59L10.3 9.45l-7.72 7.72c-.78.78-.78 2.05 0 2.83L4 21.41c.39.39.9.59 1.41.59.51 0 1.02-.2 1.41-.59l7.78-7.78 2.81-2.81c.8-.78.8-2.07 0-2.86zM5.41 20L4 18.59l7.72-7.72 1.47 1.35L5.41 20z\"/>\n",
              "  </svg>\n",
              "      </button>\n",
              "      \n",
              "  <style>\n",
              "    .colab-df-container {\n",
              "      display:flex;\n",
              "      flex-wrap:wrap;\n",
              "      gap: 12px;\n",
              "    }\n",
              "\n",
              "    .colab-df-convert {\n",
              "      background-color: #E8F0FE;\n",
              "      border: none;\n",
              "      border-radius: 50%;\n",
              "      cursor: pointer;\n",
              "      display: none;\n",
              "      fill: #1967D2;\n",
              "      height: 32px;\n",
              "      padding: 0 0 0 0;\n",
              "      width: 32px;\n",
              "    }\n",
              "\n",
              "    .colab-df-convert:hover {\n",
              "      background-color: #E2EBFA;\n",
              "      box-shadow: 0px 1px 2px rgba(60, 64, 67, 0.3), 0px 1px 3px 1px rgba(60, 64, 67, 0.15);\n",
              "      fill: #174EA6;\n",
              "    }\n",
              "\n",
              "    [theme=dark] .colab-df-convert {\n",
              "      background-color: #3B4455;\n",
              "      fill: #D2E3FC;\n",
              "    }\n",
              "\n",
              "    [theme=dark] .colab-df-convert:hover {\n",
              "      background-color: #434B5C;\n",
              "      box-shadow: 0px 1px 3px 1px rgba(0, 0, 0, 0.15);\n",
              "      filter: drop-shadow(0px 1px 2px rgba(0, 0, 0, 0.3));\n",
              "      fill: #FFFFFF;\n",
              "    }\n",
              "  </style>\n",
              "\n",
              "      <script>\n",
              "        const buttonEl =\n",
              "          document.querySelector('#df-187bd00d-8042-403a-9715-e83c49b7a916 button.colab-df-convert');\n",
              "        buttonEl.style.display =\n",
              "          google.colab.kernel.accessAllowed ? 'block' : 'none';\n",
              "\n",
              "        async function convertToInteractive(key) {\n",
              "          const element = document.querySelector('#df-187bd00d-8042-403a-9715-e83c49b7a916');\n",
              "          const dataTable =\n",
              "            await google.colab.kernel.invokeFunction('convertToInteractive',\n",
              "                                                     [key], {});\n",
              "          if (!dataTable) return;\n",
              "\n",
              "          const docLinkHtml = 'Like what you see? Visit the ' +\n",
              "            '<a target=\"_blank\" href=https://colab.research.google.com/notebooks/data_table.ipynb>data table notebook</a>'\n",
              "            + ' to learn more about interactive tables.';\n",
              "          element.innerHTML = '';\n",
              "          dataTable['output_type'] = 'display_data';\n",
              "          await google.colab.output.renderOutput(dataTable, element);\n",
              "          const docLink = document.createElement('div');\n",
              "          docLink.innerHTML = docLinkHtml;\n",
              "          element.appendChild(docLink);\n",
              "        }\n",
              "      </script>\n",
              "    </div>\n",
              "  </div>\n",
              "  "
            ]
          },
          "metadata": {},
          "execution_count": 8
        }
      ]
    },
    {
      "cell_type": "code",
      "source": [
        "# set title and logo for the web page\n",
        "st.set_page_config(page_title=\"Microsoft Stock Prices\", page_icon=\"https://cdn.cdnlogo.com/logos/m/6/microsoft.svg\", layout=\"wide\")"
      ],
      "metadata": {
        "id": "K_FaGXqKuNep"
      },
      "execution_count": 9,
      "outputs": []
    },
    {
      "cell_type": "code",
      "source": [
        "# Adding social media links and tags to the web page\n",
        "\n",
        "\"[![Star](https://img.shields.io/badge/Rahul-TG-blue)](https://github.com/rahultg08/)\"\n",
        "\"\"\"\n",
        "[![Follow](https://img.shields.io/badge/LinkedIn-0077B5?style=for-the-badge&logo=linkedin&logoColor=white)](https://www.linkedin.com/in/rahultg08)\n",
        "[![Follow](https://img.shields.io/badge/Twitter-1DA1F2?style=for-the-badge&logo=twitter&logoColor=white)](https://twitter.com/rahultg08)\n",
        "\n",
        "# Microsoft's Stock Analysis\n",
        "\n",
        "\"\"\""
      ],
      "metadata": {
        "colab": {
          "base_uri": "https://localhost:8080/",
          "height": 70
        },
        "id": "UjTnm95-uPU7",
        "outputId": "fc42873d-ea64-46d0-87e2-db3f9b3ba64e"
      },
      "execution_count": 10,
      "outputs": [
        {
          "output_type": "execute_result",
          "data": {
            "text/plain": [
              "\"\\n[![Follow](https://img.shields.io/badge/LinkedIn-0077B5?style=for-the-badge&logo=linkedin&logoColor=white)](https://www.linkedin.com/in/rahultg08)\\n[![Follow](https://img.shields.io/badge/Twitter-1DA1F2?style=for-the-badge&logo=twitter&logoColor=white)](https://twitter.com/rahultg08)\\n\\n# Microsoft's Stock Analysis\\n\\n\""
            ],
            "application/vnd.google.colaboratory.intrinsic+json": {
              "type": "string"
            }
          },
          "metadata": {},
          "execution_count": 10
        }
      ]
    },
    {
      "cell_type": "code",
      "source": [
        "# Sidebar to the webApp\n",
        "st.markdown('---')\n",
        "# Sidebar Configuration\n",
        "st.sidebar.image('https://cdn.cdnlogo.com/logos/m/6/microsoft.svg', width=200)\n",
        "st.sidebar.markdown('# Microsoft Stock Price Analysis')\n",
        "st.sidebar.markdown('Microsoft is a leading global vendor of computer software, hardware for computer, mobile and gaming systems, and cloud services.')\n",
        "st.sidebar.markdown('Stock data from 2015 to 2021')\n",
        "st.sidebar.markdown('Visualization of Microsoft \\'s Stock Price Trends and Patterns over a given time span')\n",
        "\n",
        "st.markdown('---')\n",
        "st.sidebar.write('Developed by Rahul TG')\n",
        "st.sidebar.write('Contact @ rahultg741@gmail.com')"
      ],
      "metadata": {
        "id": "lOx9Xc2puVE3"
      },
      "execution_count": 12,
      "outputs": []
    },
    {
      "cell_type": "code",
      "source": [
        "# Displaying data in App\n",
        "st.subheader('Look through the Data')\n",
        "st.dataframe(df.head())\n",
        "\n",
        "# Displaying statistical info\n",
        "st.subheader('Statistical Info about the Data')\n",
        "st.write(df.describe())"
      ],
      "metadata": {
        "id": "lrMvchDTucPy"
      },
      "execution_count": 13,
      "outputs": []
    },
    {
      "cell_type": "code",
      "source": [
        "# Selection for specific time frame\n",
        "st.subheader('Select the Date Interval for analysis')\n",
        "df_select = df\n",
        "\n",
        "# Adding 2 columns\n",
        "col1, col2 = st.columns(2)\n",
        "\n",
        "# col1 for start date\n",
        "with col1:\n",
        "  st.write('Select Start Date')\n",
        "  start_date = st.date_input('Start Date', min_value = datetime.date(2015,4,1), max_value=datetime.date(2021,3,31), value=datetime.date(2015,4,1))\n",
        "\n",
        "with col2:\n",
        "  st.write('Select End Date')\n",
        "  end_date = st.date_input('End Date', min_value=datetime.date(2014,4,1), max_value=datetime.date(2021,3,31), value=datetime.date(2021,3,31))\n",
        "\n",
        "if(start_date != None or end_date != None):\n",
        "  if(start_date < end_date):\n",
        "    df_select = df[start_date:end_date]\n",
        "  else:\n",
        "    st.warning('Invalid Date Range - Re-enter the dates')"
      ],
      "metadata": {
        "id": "7wTuBmI6ue4a"
      },
      "execution_count": 14,
      "outputs": []
    },
    {
      "cell_type": "code",
      "source": [
        "# Open and Close Prices\n",
        "st.subheader(\"Open & Close Prices for Microsoft Stock\")\n",
        "st.markdown(\"\\n\\n\")\n",
        "st.line_chart(df_select[['Open', 'Close']])"
      ],
      "metadata": {
        "colab": {
          "base_uri": "https://localhost:8080/"
        },
        "id": "QRrnFTWWugJJ",
        "outputId": "a4e0b6eb-5eef-462b-d540-6085ab9e0d6e"
      },
      "execution_count": 15,
      "outputs": [
        {
          "output_type": "execute_result",
          "data": {
            "text/plain": [
              "DeltaGenerator(_root_container=0, _provided_cursor=None, _parent=None, _block_type=None, _form_data=None)"
            ]
          },
          "metadata": {},
          "execution_count": 15
        }
      ]
    },
    {
      "cell_type": "code",
      "source": [
        "# High and Low Prices\n",
        "st.subheader(\"High & Low Prices for Microsoft Stock\")\n",
        "st.markdown(\"\\n\\n\")\n",
        "st.line_chart(df_select[['High', 'Low']])"
      ],
      "metadata": {
        "colab": {
          "base_uri": "https://localhost:8080/"
        },
        "id": "11iUwj_ouhZv",
        "outputId": "1905d6f4-2002-40bd-d055-f53443f2dbcd"
      },
      "execution_count": 16,
      "outputs": [
        {
          "output_type": "execute_result",
          "data": {
            "text/plain": [
              "DeltaGenerator(_root_container=0, _provided_cursor=None, _parent=None, _block_type=None, _form_data=None)"
            ]
          },
          "metadata": {},
          "execution_count": 16
        }
      ]
    },
    {
      "cell_type": "code",
      "source": [
        "# Volume of Stock Traded\n",
        "st.subheader(\"Volume of Microsoft Stock Traded\")\n",
        "st.markdown('\\n\\n')\n",
        "st.bar_chart(df_select['Volume'])"
      ],
      "metadata": {
        "colab": {
          "base_uri": "https://localhost:8080/"
        },
        "id": "3n5qtgNHuimE",
        "outputId": "3392f0f5-561c-4f1b-ab68-b970b390d1df"
      },
      "execution_count": 17,
      "outputs": [
        {
          "output_type": "execute_result",
          "data": {
            "text/plain": [
              "DeltaGenerator(_root_container=0, _provided_cursor=None, _parent=None, _block_type=None, _form_data=None)"
            ]
          },
          "metadata": {},
          "execution_count": 17
        }
      ]
    },
    {
      "cell_type": "code",
      "source": [
        "# Moving average from 50 days to 250 days\n",
        "st.subheader('Moving Averages of Open & Close Stock Prices')\n",
        "moveavg_len = st.slider('Select the number of days for Moving Averages', min_value = 0, max_value = 250, value = 50)\n",
        "moveavg_oc = df_select[['Open', 'Close']].rolling(50).mean()\n",
        "st.line_chart(moveavg_oc)"
      ],
      "metadata": {
        "colab": {
          "base_uri": "https://localhost:8080/"
        },
        "id": "fm0e1zzrukDw",
        "outputId": "d13f6321-9147-4c42-f77a-a343bdd54e9a"
      },
      "execution_count": 18,
      "outputs": [
        {
          "output_type": "execute_result",
          "data": {
            "text/plain": [
              "DeltaGenerator(_root_container=0, _provided_cursor=None, _parent=None, _block_type=None, _form_data=None)"
            ]
          },
          "metadata": {},
          "execution_count": 18
        }
      ]
    },
    {
      "cell_type": "markdown",
      "source": [
        "Upload the dataset to colab before writing code into app.py\n",
        "\n",
        "Then, run the app"
      ],
      "metadata": {
        "id": "xo7g7YDpunFM"
      }
    },
    {
      "cell_type": "code",
      "source": [
        "%%writefile app1.py\n",
        "# Import the necessary libraries\n",
        "import streamlit as st\n",
        "import pandas as pd\n",
        "import numpy as np\n",
        "import matplotlib.pyplot as plt\n",
        "import datetime\n",
        "\n",
        "# set title and logo for the web page\n",
        "st.set_page_config(page_title=\"Microsoft Stock Prices\", page_icon=\"https://cdn.cdnlogo.com/logos/m/95/microsoft.svg\")\n",
        "\n",
        "# Adding social media links and tags to the web page\n",
        "\n",
        "\"[![Star](https://img.shields.io/badge/Rahul-TG-blue)](https://github.com/rahultg08/)\"\n",
        "\"\"\"\n",
        "[![Follow](https://img.shields.io/badge/LinkedIn-0077B5?style=for-the-badge&logo=linkedin&logoColor=white)](https://www.linkedin.com/in/rahultg08)\n",
        "[![Follow](https://img.shields.io/badge/Twitter-1DA1F2?style=for-the-badge&logo=twitter&logoColor=white)](https://twitter.com/rahultg08)\n",
        "\n",
        "# Microsoft's Stock Analysis\n",
        "\n",
        "\"\"\"\n",
        "\n",
        "# Sidebar to the webApp\n",
        "st.markdown('---')\n",
        "# Sidebar Configuration\n",
        "st.sidebar.image('https://cdn.cdnlogo.com/logos/m/6/microsoft.svg', width=200)\n",
        "st.sidebar.markdown(' # Microsoft Stock Price Analysis')\n",
        "st.sidebar.markdown('Microsoft is a leading global vendor of computer software, hardware for computer, mobile and gaming systems, and cloud services.')\n",
        "st.sidebar.markdown('Stock data from 2015 to 2021')\n",
        "st.sidebar.markdown('Visualization of Microsoft \\'s Stock Price Trends and Patterns over a given time span')\n",
        "\n",
        "st.markdown('---')\n",
        "st.sidebar.write('Developed by Rahul TG')\n",
        "st.sidebar.write('Contact @ rahultg741@gmail.com')\n",
        "\n",
        "# Import the dataset into a dataframe\n",
        "df = pd.read_csv(\"Microsoft_Stock.csv\")\n",
        "\n",
        "# Convert series object to datetime object\n",
        "df['Date'] = pd.to_datetime(df['Date'])\n",
        "\n",
        "# Reset the index to the Date column\n",
        "df['Date'] = pd.to_datetime(df['Date'], format='%Y/%m/%d')\n",
        "df.reset_index(drop=True, inplace=True)\n",
        "df.set_index('Date', inplace=True)\n",
        "\n",
        "# Displaying data in App\n",
        "st.subheader('Look through the Data')\n",
        "st.dataframe(df.head())\n",
        "\n",
        "# Displaying statistical info\n",
        "st.subheader('Statistical Info about the Data')\n",
        "st.write(df.describe())\n",
        "\n",
        "# Selection for specific time frame\n",
        "st.subheader('Select the Date Interval for analysis')\n",
        "df_select = df\n",
        "\n",
        "# Adding 2 columns\n",
        "col1, col2 = st.columns(2)\n",
        "\n",
        "# col1 for start date\n",
        "with col1:\n",
        "  st.write('Select Start Date')\n",
        "  start_date = st.date_input('Start Date', min_value = datetime.date(2015,4,1), max_value=datetime.date(2021,3,31), value=datetime.date(2015,4,1))\n",
        "\n",
        "with col2:\n",
        "  st.write('Select End Date')\n",
        "  end_date = st.date_input('End Date', min_value=datetime.date(2014,4,1), max_value=datetime.date(2021,3,31), value=datetime.date(2021,3,31))\n",
        "\n",
        "if(start_date != None or end_date != None):\n",
        "  if(start_date < end_date):\n",
        "    df_select = df[start_date:end_date]\n",
        "  else:\n",
        "    st.warning('Invalid Range - Re-enter the dates')\n",
        "\n",
        "# Open and Close Prices\n",
        "st.subheader(\"Open & Close Prices for Microsoft Stock\")\n",
        "st.markdown(\"\\n\\n\")\n",
        "st.line_chart(df_select[['Open', 'Close']])\n",
        "\n",
        "# High and Low Prices\n",
        "st.subheader(\"High & Low Prices for Microsoft Stock\")\n",
        "st.markdown(\"\\n\\n\")\n",
        "st.line_chart(df_select[['High', 'Low']])\n",
        "\n",
        "# Volume of Stock Traded\n",
        "st.subheader(\"Volume of Microsoft Stock Traded\")\n",
        "st.markdown('\\n\\n')\n",
        "st.bar_chart(df_select['Volume'])\n",
        "\n",
        "# Moving average from 50 days to 250 days\n",
        "st.subheader('Moving Averages of Open & Close Stock Prices')\n",
        "moveavg_len = st.slider('Select the number of days for Moving Averages', min_value = 0, max_value = 250, value = 50)\n",
        "moveavg_oc = df_select[['Open', 'Close']].rolling(50).mean()\n",
        "st.line_chart(moveavg_oc)"
      ],
      "metadata": {
        "colab": {
          "base_uri": "https://localhost:8080/"
        },
        "id": "NWDBps4aup1L",
        "outputId": "7ebeae35-edbb-4140-de03-db10eaff9d2e"
      },
      "execution_count": 19,
      "outputs": [
        {
          "output_type": "stream",
          "name": "stdout",
          "text": [
            "Writing app1.py\n"
          ]
        }
      ]
    },
    {
      "cell_type": "code",
      "source": [
        "!streamlit run app1.py & npx localtunnel --port 8501"
      ],
      "metadata": {
        "colab": {
          "base_uri": "https://localhost:8080/"
        },
        "id": "M_0N5d4ruxqF",
        "outputId": "38fc3cad-75ce-42a7-aa8a-99ef765ac170"
      },
      "execution_count": 20,
      "outputs": [
        {
          "output_type": "stream",
          "name": "stdout",
          "text": [
            "[..................] \\ fetchMetadata: sill resolveWithNewModule localtunnel@2.0\u001b[0m\u001b[K\n",
            "Collecting usage statistics. To deactivate, set browser.gatherUsageStats to False.\n",
            "\u001b[0m\n",
            "\u001b[K\u001b[?25hnpx: installed 22 in 4.704s\n",
            "your url is: https://shaky-areas-play-34-125-124-191.loca.lt\n",
            "\u001b[0m\n",
            "\u001b[34m\u001b[1m  You can now view your Streamlit app in your browser.\u001b[0m\n",
            "\u001b[0m\n",
            "\u001b[34m  Network URL: \u001b[0m\u001b[1mhttp://172.28.0.12:8501\u001b[0m\n",
            "\u001b[34m  External URL: \u001b[0m\u001b[1mhttp://34.125.124.191:8501\u001b[0m\n",
            "\u001b[0m\n",
            "\u001b[34m  Stopping...\u001b[0m\n",
            "^C\n"
          ]
        }
      ]
    },
    {
      "cell_type": "code",
      "source": [],
      "metadata": {
        "id": "1sGw_EfLuz-0"
      },
      "execution_count": null,
      "outputs": []
    }
  ]
}